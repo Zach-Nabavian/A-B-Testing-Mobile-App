{
 "cells": [
  {
   "cell_type": "code",
   "execution_count": 1,
   "id": "774ee79c",
   "metadata": {},
   "outputs": [],
   "source": [
    "# import libraries\n",
    "\n",
    "import numpy as np\n",
    "import pandas as pd\n",
    "import scipy.stats as stats\n",
    "import statsmodels.api as sm\n",
    "import matplotlib.pyplot as plt\n",
    "import seaborn as sns\n",
    "import statsmodels.api as sm\n",
    "\n",
    "plt.rcParams.update({'font.size': 22})"
   ]
  },
  {
   "cell_type": "code",
   "execution_count": 2,
   "id": "e7fae39f",
   "metadata": {},
   "outputs": [],
   "source": [
    "cookie_cats = pd.read_csv(\"/Users/Honors/Downloads/cookie_cats.csv\")"
   ]
  },
  {
   "cell_type": "code",
   "execution_count": 3,
   "id": "8bec4fc6",
   "metadata": {},
   "outputs": [
    {
     "data": {
      "text/html": [
       "<div>\n",
       "<style scoped>\n",
       "    .dataframe tbody tr th:only-of-type {\n",
       "        vertical-align: middle;\n",
       "    }\n",
       "\n",
       "    .dataframe tbody tr th {\n",
       "        vertical-align: top;\n",
       "    }\n",
       "\n",
       "    .dataframe thead th {\n",
       "        text-align: right;\n",
       "    }\n",
       "</style>\n",
       "<table border=\"1\" class=\"dataframe\">\n",
       "  <thead>\n",
       "    <tr style=\"text-align: right;\">\n",
       "      <th></th>\n",
       "      <th>userid</th>\n",
       "      <th>sum_gamerounds</th>\n",
       "    </tr>\n",
       "  </thead>\n",
       "  <tbody>\n",
       "    <tr>\n",
       "      <th>count</th>\n",
       "      <td>9.018900e+04</td>\n",
       "      <td>90189.000000</td>\n",
       "    </tr>\n",
       "    <tr>\n",
       "      <th>mean</th>\n",
       "      <td>4.998412e+06</td>\n",
       "      <td>51.872457</td>\n",
       "    </tr>\n",
       "    <tr>\n",
       "      <th>std</th>\n",
       "      <td>2.883286e+06</td>\n",
       "      <td>195.050858</td>\n",
       "    </tr>\n",
       "    <tr>\n",
       "      <th>min</th>\n",
       "      <td>1.160000e+02</td>\n",
       "      <td>0.000000</td>\n",
       "    </tr>\n",
       "    <tr>\n",
       "      <th>25%</th>\n",
       "      <td>2.512230e+06</td>\n",
       "      <td>5.000000</td>\n",
       "    </tr>\n",
       "    <tr>\n",
       "      <th>50%</th>\n",
       "      <td>4.995815e+06</td>\n",
       "      <td>16.000000</td>\n",
       "    </tr>\n",
       "    <tr>\n",
       "      <th>75%</th>\n",
       "      <td>7.496452e+06</td>\n",
       "      <td>51.000000</td>\n",
       "    </tr>\n",
       "    <tr>\n",
       "      <th>max</th>\n",
       "      <td>9.999861e+06</td>\n",
       "      <td>49854.000000</td>\n",
       "    </tr>\n",
       "  </tbody>\n",
       "</table>\n",
       "</div>"
      ],
      "text/plain": [
       "             userid  sum_gamerounds\n",
       "count  9.018900e+04    90189.000000\n",
       "mean   4.998412e+06       51.872457\n",
       "std    2.883286e+06      195.050858\n",
       "min    1.160000e+02        0.000000\n",
       "25%    2.512230e+06        5.000000\n",
       "50%    4.995815e+06       16.000000\n",
       "75%    7.496452e+06       51.000000\n",
       "max    9.999861e+06    49854.000000"
      ]
     },
     "execution_count": 3,
     "metadata": {},
     "output_type": "execute_result"
    }
   ],
   "source": [
    "cookie_cats.describe()"
   ]
  },
  {
   "cell_type": "code",
   "execution_count": 4,
   "id": "76a24331",
   "metadata": {},
   "outputs": [
    {
     "data": {
      "text/html": [
       "<div>\n",
       "<style scoped>\n",
       "    .dataframe tbody tr th:only-of-type {\n",
       "        vertical-align: middle;\n",
       "    }\n",
       "\n",
       "    .dataframe tbody tr th {\n",
       "        vertical-align: top;\n",
       "    }\n",
       "\n",
       "    .dataframe thead th {\n",
       "        text-align: right;\n",
       "    }\n",
       "</style>\n",
       "<table border=\"1\" class=\"dataframe\">\n",
       "  <thead>\n",
       "    <tr style=\"text-align: right;\">\n",
       "      <th></th>\n",
       "      <th>userid</th>\n",
       "      <th>version</th>\n",
       "      <th>sum_gamerounds</th>\n",
       "      <th>retention_1</th>\n",
       "      <th>retention_7</th>\n",
       "    </tr>\n",
       "  </thead>\n",
       "  <tbody>\n",
       "    <tr>\n",
       "      <th>0</th>\n",
       "      <td>116</td>\n",
       "      <td>gate_30</td>\n",
       "      <td>3</td>\n",
       "      <td>False</td>\n",
       "      <td>False</td>\n",
       "    </tr>\n",
       "    <tr>\n",
       "      <th>1</th>\n",
       "      <td>337</td>\n",
       "      <td>gate_30</td>\n",
       "      <td>38</td>\n",
       "      <td>True</td>\n",
       "      <td>False</td>\n",
       "    </tr>\n",
       "    <tr>\n",
       "      <th>2</th>\n",
       "      <td>377</td>\n",
       "      <td>gate_40</td>\n",
       "      <td>165</td>\n",
       "      <td>True</td>\n",
       "      <td>False</td>\n",
       "    </tr>\n",
       "    <tr>\n",
       "      <th>3</th>\n",
       "      <td>483</td>\n",
       "      <td>gate_40</td>\n",
       "      <td>1</td>\n",
       "      <td>False</td>\n",
       "      <td>False</td>\n",
       "    </tr>\n",
       "    <tr>\n",
       "      <th>4</th>\n",
       "      <td>488</td>\n",
       "      <td>gate_40</td>\n",
       "      <td>179</td>\n",
       "      <td>True</td>\n",
       "      <td>True</td>\n",
       "    </tr>\n",
       "    <tr>\n",
       "      <th>...</th>\n",
       "      <td>...</td>\n",
       "      <td>...</td>\n",
       "      <td>...</td>\n",
       "      <td>...</td>\n",
       "      <td>...</td>\n",
       "    </tr>\n",
       "    <tr>\n",
       "      <th>90184</th>\n",
       "      <td>9999441</td>\n",
       "      <td>gate_40</td>\n",
       "      <td>97</td>\n",
       "      <td>True</td>\n",
       "      <td>False</td>\n",
       "    </tr>\n",
       "    <tr>\n",
       "      <th>90185</th>\n",
       "      <td>9999479</td>\n",
       "      <td>gate_40</td>\n",
       "      <td>30</td>\n",
       "      <td>False</td>\n",
       "      <td>False</td>\n",
       "    </tr>\n",
       "    <tr>\n",
       "      <th>90186</th>\n",
       "      <td>9999710</td>\n",
       "      <td>gate_30</td>\n",
       "      <td>28</td>\n",
       "      <td>True</td>\n",
       "      <td>False</td>\n",
       "    </tr>\n",
       "    <tr>\n",
       "      <th>90187</th>\n",
       "      <td>9999768</td>\n",
       "      <td>gate_40</td>\n",
       "      <td>51</td>\n",
       "      <td>True</td>\n",
       "      <td>False</td>\n",
       "    </tr>\n",
       "    <tr>\n",
       "      <th>90188</th>\n",
       "      <td>9999861</td>\n",
       "      <td>gate_40</td>\n",
       "      <td>16</td>\n",
       "      <td>False</td>\n",
       "      <td>False</td>\n",
       "    </tr>\n",
       "  </tbody>\n",
       "</table>\n",
       "<p>90189 rows × 5 columns</p>\n",
       "</div>"
      ],
      "text/plain": [
       "        userid  version  sum_gamerounds  retention_1  retention_7\n",
       "0          116  gate_30               3        False        False\n",
       "1          337  gate_30              38         True        False\n",
       "2          377  gate_40             165         True        False\n",
       "3          483  gate_40               1        False        False\n",
       "4          488  gate_40             179         True         True\n",
       "...        ...      ...             ...          ...          ...\n",
       "90184  9999441  gate_40              97         True        False\n",
       "90185  9999479  gate_40              30        False        False\n",
       "90186  9999710  gate_30              28         True        False\n",
       "90187  9999768  gate_40              51         True        False\n",
       "90188  9999861  gate_40              16        False        False\n",
       "\n",
       "[90189 rows x 5 columns]"
      ]
     },
     "execution_count": 4,
     "metadata": {},
     "output_type": "execute_result"
    }
   ],
   "source": [
    "cookie_cats"
   ]
  },
  {
   "cell_type": "code",
   "execution_count": 3,
   "id": "afb43fdb",
   "metadata": {},
   "outputs": [
    {
     "data": {
      "image/png": "[encoded data removed]",
      "text/plain": [
       "<Figure size 720x432 with 1 Axes>"
      ]
     },
     "metadata": {
      "needs_background": "light"
     },
     "output_type": "display_data"
    }
   ],
   "source": [
    "# Find the average number of game rounds for each version, and the standard deviation and the number of values\n",
    "\n",
    "version_group = cookie_cats.groupby(\"version\").agg([\"mean\", \"std\", \"count\"])[\"sum_gamerounds\"]\n",
    "plt.figure(figsize=(10, 6))\n",
    "plt.bar(cookie_cats[\"version\"].unique(), version_group[\"mean\"], color = \"green\")\n",
    "plt.title(\"Average Game Rounds\")\n",
    "plt.ylabel(\"Average\")\n",
    "plt.xlabel(\"Version\")\n",
    "plt.show()"
   ]
  },
  {
   "cell_type": "code",
   "execution_count": 6,
   "id": "340abc74",
   "metadata": {},
   "outputs": [],
   "source": [
    "# Calculate relevant statistics for the two versions\n",
    "\n",
    "# Calculate mean and standard deviation and count for the level 30 gate version \n",
    "\n",
    "mean_30 = version_group[\"mean\"][\"gate_30\"]\n",
    "std_30 = version_group[\"std\"][\"gate_30\"]\n",
    "count_30 = version_group[\"count\"][\"gate_30\"]\n",
    "\n",
    "# Calculate mean and standard deviation and count for the level 40 gate version \n",
    "\n",
    "mean_40 = version_group[\"mean\"][\"gate_40\"]\n",
    "std_40 = version_group[\"std\"][\"gate_40\"]\n",
    "count_40 = version_group[\"count\"][\"gate_40\"]\n",
    "\n",
    "# Calculate standard errors\n",
    "\n",
    "se_30 = std_30/np.sqrt(count_30)\n",
    "se_40 = std_40/np.sqrt(count_40)"
   ]
  },
  {
   "cell_type": "code",
   "execution_count": 7,
   "id": "ea2dadc5",
   "metadata": {},
   "outputs": [
    {
     "data": {
      "text/plain": [
       "Ttest_indResult(statistic=0.8910426211362967, pvalue=0.37290868247405207)"
      ]
     },
     "execution_count": 7,
     "metadata": {},
     "output_type": "execute_result"
    }
   ],
   "source": [
    "# Conduct the A/B test for game rounds\n",
    "\n",
    "version_30 = cookie_cats[cookie_cats[\"version\"] == \"gate_30\"][\"sum_gamerounds\"]\n",
    "version_40 = cookie_cats[cookie_cats[\"version\"] == \"gate_40\"][\"sum_gamerounds\"]\n",
    "\n",
    "stats.ttest_ind(version_30, version_40)"
   ]
  },
  {
   "cell_type": "code",
   "execution_count": 8,
   "id": "9131083f",
   "metadata": {},
   "outputs": [
    {
     "name": "stdout",
     "output_type": "stream",
     "text": [
      "1.157488453953249\n",
      "-1.4047096689986396 3.7196865769051377\n"
     ]
    }
   ],
   "source": [
    "# Calculate 95% confidence interval for the difference\n",
    "\n",
    "# Calculate degrees of freedom\n",
    "\n",
    "degrees_freedom = count_30 + count_40 - 2\n",
    "\n",
    "# Calculate critical t score\n",
    "\n",
    "t_critical = stats.t.ppf(0.975, degrees_freedom)\n",
    "\n",
    "# Calculate the standard error of the difference\n",
    "\n",
    "difference = mean_30 - mean_40\n",
    "\n",
    "# Calculate the standard error of the difference\n",
    "\n",
    "standard_error = np.sqrt(se_30 ** 2 + se_40 ** 2)\n",
    "\n",
    "# Calculate lower and upper bounds\n",
    "\n",
    "lower_bound = difference - t_critical * standard_error\n",
    "upper_bound = difference + t_critical * standard_error\n",
    "print(difference)\n",
    "print(lower_bound, upper_bound)"
   ]
  },
  {
   "cell_type": "code",
   "execution_count": 9,
   "id": "fbc6ab36",
   "metadata": {},
   "outputs": [
    {
     "data": {
      "image/png": "[encoded data removed]",
      "text/plain": [
       "<Figure size 720x432 with 1 Axes>"
      ]
     },
     "metadata": {
      "needs_background": "light"
     },
     "output_type": "display_data"
    }
   ],
   "source": [
    "# Create a bar graph for each version's one-day retention rate\n",
    "\n",
    "version_group_retention1 = cookie_cats.groupby(\"version\").agg([\"count\", \"sum\"])[\"retention_1\"]\n",
    "version_group_retention1[\"proportion\"] = version_group_retention1[\"sum\"]/version_group_retention1[\"count\"]\n",
    "\n",
    "plt.figure(figsize=(10, 6))\n",
    "plt.bar(cookie_cats[\"version\"].unique(), version_group_retention1[\"proportion\"], color = \"blue\")\n",
    "plt.title(\"One Day Retention Rates\")\n",
    "plt.ylabel(\"Retention Rate\")\n",
    "plt.xlabel(\"Version\")\n",
    "plt.show()"
   ]
  },
  {
   "cell_type": "code",
   "execution_count": 10,
   "id": "c260e1c7",
   "metadata": {},
   "outputs": [
    {
     "data": {
      "text/plain": [
       "(1.7840862247974725, 0.07440965529691913)"
      ]
     },
     "execution_count": 10,
     "metadata": {},
     "output_type": "execute_result"
    }
   ],
   "source": [
    "# Conduct the proportion A/B test\n",
    "\n",
    "retention_count_30 = version_group_retention1[\"sum\"][\"gate_30\"]\n",
    "retention_count_40 = version_group_retention1[\"sum\"][\"gate_40\"]\n",
    "\n",
    "sm.stats.proportions_ztest([retention_count_30, retention_count_40],[count_30, count_40])"
   ]
  },
  {
   "cell_type": "code",
   "execution_count": 15,
   "id": "febcc0e8",
   "metadata": {},
   "outputs": [
    {
     "name": "stdout",
     "output_type": "stream",
     "text": [
      "0.005905169787341458\n",
      "-0.0005820998747623016 0.012392439449445217\n"
     ]
    }
   ],
   "source": [
    "# Calculate the 95% confidence interval\n",
    "\n",
    "z_score = sm.stats.proportions_ztest([retention_count_30, retention_count_40],[count_30, count_40])[0]\n",
    "z_critical = stats.norm.ppf(0.975)\n",
    "\n",
    "# Calculate standard error\n",
    "\n",
    "retention1_proportion_30 = version_group_retention1[\"proportion\"][\"gate_30\"]\n",
    "retention1_proportion_40 = version_group_retention1[\"proportion\"][\"gate_40\"]\n",
    "\n",
    "se_retention1 = np.sqrt((retention1_proportion_30 * (1-retention1_proportion_30))/count_30 + (retention1_proportion_40 * (1-retention1_proportion_40))/count_40)\n",
    "\n",
    "# Calculate difference\n",
    "\n",
    "retention1_difference = retention1_proportion_30 - retention1_proportion_40\n",
    "\n",
    "# Calculate lower and upper bounds\n",
    "\n",
    "lower_bound = retention1_difference - z_critical * se_retention1\n",
    "upper_bound = retention1_difference + z_critical * se_retention1\n",
    "\n",
    "print(retention1_difference)\n",
    "print(lower_bound, upper_bound)"
   ]
  },
  {
   "cell_type": "code",
   "execution_count": 18,
   "id": "841424c9",
   "metadata": {},
   "outputs": [
    {
     "data": {
      "image/png": "[encoded data removed]",
      "text/plain": [
       "<Figure size 720x432 with 1 Axes>"
      ]
     },
     "metadata": {
      "needs_background": "light"
     },
     "output_type": "display_data"
    }
   ],
   "source": [
    "# Create a bar graph for each version's seven-day retention rate\n",
    "\n",
    "version_group_retention7 = cookie_cats.groupby(\"version\").agg([\"count\", \"sum\"])[\"retention_7\"]\n",
    "version_group_retention7[\"proportion\"] = version_group_retention7[\"sum\"]/version_group_retention7[\"count\"]\n",
    "\n",
    "plt.figure(figsize=(10, 6))\n",
    "plt.bar(cookie_cats[\"version\"].unique(), version_group_retention7[\"proportion\"], color = \"red\")\n",
    "plt.title(\"Seven Day Retention Rates\")\n",
    "plt.ylabel(\"Retention Rate\")\n",
    "plt.xlabel(\"Version\")\n",
    "plt.show()"
   ]
  },
  {
   "cell_type": "code",
   "execution_count": 19,
   "id": "ddba2c6b",
   "metadata": {},
   "outputs": [
    {
     "data": {
      "text/plain": [
       "(3.164358912748191, 0.001554249975614329)"
      ]
     },
     "execution_count": 19,
     "metadata": {},
     "output_type": "execute_result"
    }
   ],
   "source": [
    "# Conduct the proportion A/B test\n",
    "\n",
    "retention7_count_30 = version_group_retention7[\"sum\"][\"gate_30\"]\n",
    "retention7_count_40 = version_group_retention7[\"sum\"][\"gate_40\"]\n",
    "\n",
    "sm.stats.proportions_ztest([retention7_count_30, retention7_count_40],[count_30, count_40])"
   ]
  },
  {
   "cell_type": "code",
   "execution_count": 21,
   "id": "511dc305",
   "metadata": {},
   "outputs": [
    {
     "name": "stdout",
     "output_type": "stream",
     "text": [
      "0.008201298315205913\n",
      "0.0031210442115262808 0.013281552418885545\n"
     ]
    }
   ],
   "source": [
    "# Calculate the 95% confidence interval\n",
    "\n",
    "z_score = sm.stats.proportions_ztest([retention7_count_30, retention7_count_40],[count_30, count_40])[0]\n",
    "z_critical = stats.norm.ppf(0.975)\n",
    "\n",
    "# Calculate standard error\n",
    "\n",
    "retention7_proportion_30 = version_group_retention7[\"proportion\"][\"gate_30\"]\n",
    "retention7_proportion_40 = version_group_retention7[\"proportion\"][\"gate_40\"]\n",
    "\n",
    "se_retention7 = np.sqrt((retention7_proportion_30 * (1-retention7_proportion_30))/count_30 + (retention7_proportion_40 * (1-retention7_proportion_40))/count_40)\n",
    "\n",
    "# Calculate difference\n",
    "\n",
    "retention7_difference = retention7_proportion_30 - retention7_proportion_40\n",
    "\n",
    "# Calculate lower and upper bounds\n",
    "\n",
    "lower_bound = retention1_difference - z_critical * se_retention7\n",
    "upper_bound = retention1_difference + z_critical * se_retention7\n",
    "\n",
    "print(retention7_difference)\n",
    "print(lower_bound, upper_bound)"
   ]
  },
  {
   "cell_type": "code",
   "execution_count": null,
   "id": "dbb87cf9",
   "metadata": {},
   "outputs": [],
   "source": []
  }
 ],
 "metadata": {
  "kernelspec": {
   "display_name": "Python 3 (ipykernel)",
   "language": "python",
   "name": "python3"
  },
  "language_info": {
   "codemirror_mode": {
    "name": "ipython",
    "version": 3
   },
   "file_extension": ".py",
   "mimetype": "text/x-python",
   "name": "python",
   "nbconvert_exporter": "python",
   "pygments_lexer": "ipython3",
   "version": "3.9.12"
  }
 },
 "nbformat": 4,
 "nbformat_minor": 5
}
